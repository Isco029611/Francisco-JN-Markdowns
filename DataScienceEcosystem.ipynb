{
 "cells": [
  {
   "cell_type": "markdown",
   "metadata": {},
   "source": [
    "<center>\n",
    "    <img src=\"https://cf-courses-data.s3.us.cloud-object-storage.appdomain.cloud/IBMDeveloperSkillsNetwork-DS0105EN-SkillsNetwork/labs/Module2/images/SN_web_lightmode.png\" width=\"300\" alt=\"cognitiveclass.ai logo\">\n",
    "</center>\n"
   ]
  },
  {
   "cell_type": "markdown",
   "metadata": {},
   "source": [
    "Exercise 1: Create a Jupyter Notebook\n",
    "Create a new Jupyter notebook called DataScienceEcosystem.ipynb\n",
    " "
   ]
  },
  {
   "cell_type": "markdown",
   "metadata": {
    "tags": []
   },
   "source": [
    "#### Exercise 2: Create markdown cell with title of the notebook\n",
    "\n",
    "#       Data Science Tools and Ecosystem"
   ]
  },
  {
   "cell_type": "markdown",
   "metadata": {
    "tags": []
   },
   "source": [
    "#### Exercise 3 - Create a markdown cell for an introduction\n",
    "\n",
    "In this notebook, we provide an overview of Data Science Tools and Ecosystem."
   ]
  },
  {
   "cell_type": "markdown",
   "metadata": {},
   "source": [
    "#### Exercise 10 - Insert a markdown cell to list Objectives\n",
    "\n",
    "**Objetives**\n",
    "\n",
    "After completing this activity, you will be able to:\n",
    "- Create Tables in Markdown\n",
    "- Create ordered and unordered lists in Markdown\n",
    "- Demonstrate your proficiency in using Markdown in Jupyter Notebooks\n",
    "- List popular libraries for Data Science"
   ]
  },
  {
   "cell_type": "markdown",
   "metadata": {},
   "source": [
    "#### Exercise 4 - Create a markdown cell to list data science languages\n",
    "\n",
    "Start the cell with an overview line such as:\n",
    "\n",
    "Some of the popular languages that Data Scientists use are:\n",
    "\n",
    "1. Python\n",
    "2. Julia\n",
    "3.  R\n",
    "4. SQL"
   ]
  },
  {
   "cell_type": "markdown",
   "metadata": {},
   "source": [
    "#### Exercise 5 - Create a markdown cell to list data science libraries\n",
    "\n",
    "Add an overview line to the cell like:\n",
    "\n",
    "Some of the commonly used libraries used by Data Scientists include:\n",
    "1. Pandas\n",
    "2. Numpy\n",
    "3. Matplotlib"
   ]
  },
  {
   "cell_type": "markdown",
   "metadata": {},
   "source": [
    "#### Exercise 6 - Create a markdown cell with a table of Data Science tools\n",
    "\n",
    "Create a single column table in this cell with the first row containing the header Data Science Tools. The subsequent three rows in the table should indicate three development environment open source tools used in data science:\n",
    "\n",
    "| Data Science Tools|\n",
    "|-----------------|\n",
    "|1. Jupyter Notebook|\n",
    "|2. RStudio|\n",
    "|3. Apache Zeppelin|"
   ]
  },
  {
   "cell_type": "markdown",
   "metadata": {
    "tags": []
   },
   "source": [
    "#### Exercise 7 - Create a markdown cell introducing arithmetic expression examples\n",
    "\n",
    "Add a line in this cell with H3 style heading with text like:\n",
    "\n",
    "### Below are a few examples of evaluating arithmetic expressions in Python:\n",
    "\n",
    "- *Sum:* `10 + 5`\n",
    "\n",
    "- *Subtraction*: `5 - 1`\n"
   ]
  },
  {
   "cell_type": "markdown",
   "metadata": {
    "tags": []
   },
   "source": [
    "#### Exercise 8 - Create a code cell to multiply and add numbers"
   ]
  },
  {
   "cell_type": "code",
   "execution_count": 12,
   "metadata": {
    "tags": []
   },
   "outputs": [
    {
     "name": "stdout",
     "output_type": "stream",
     "text": [
      "17\n"
     ]
    }
   ],
   "source": [
    "# This a simple arithmetic expression to mutiply then add integers\n",
    "d=(3*4)+5\n",
    "print (d)"
   ]
  },
  {
   "cell_type": "markdown",
   "metadata": {},
   "source": [
    "#### Exercise 9 - Create a code cell to convert minutes to hours\n"
   ]
  },
  {
   "cell_type": "code",
   "execution_count": 15,
   "metadata": {
    "tags": []
   },
   "outputs": [
    {
     "name": "stdout",
     "output_type": "stream",
     "text": [
      "200 minutes are: 3.3 hours\n"
     ]
    }
   ],
   "source": [
    "# This will convert 200 minutes to hours by diving by 60 \n",
    "a= 200/60\n",
    "a=round (a,1)\n",
    "print (f\"200 minutes are: {a} hours\") \n"
   ]
  },
  {
   "cell_type": "markdown",
   "metadata": {
    "tags": []
   },
   "source": [
    "#### Exercise 11 - Create a markdown cell to indicate the Author's name\n",
    "\n",
    "## Author\n",
    "\n",
    "Francisco Salcedo"
   ]
  }
 ],
 "metadata": {
  "kernelspec": {
   "display_name": "Python",
   "language": "python",
   "name": "conda-env-python-py"
  },
  "language_info": {
   "codemirror_mode": {
    "name": "ipython",
    "version": 3
   },
   "file_extension": ".py",
   "mimetype": "text/x-python",
   "name": "python",
   "nbconvert_exporter": "python",
   "pygments_lexer": "ipython3",
   "version": "3.7.12"
  }
 },
 "nbformat": 4,
 "nbformat_minor": 4
}
